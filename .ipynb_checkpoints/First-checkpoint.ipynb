{
 "cells": [
  {
   "cell_type": "code",
   "execution_count": 1,
   "id": "37245a43-acfa-4f23-8cd1-22a8bf979d4b",
   "metadata": {},
   "outputs": [
    {
     "name": "stdout",
     "output_type": "stream",
     "text": [
      "H\n",
      "i\n",
      " \n",
      "I\n",
      " \n",
      "a\n",
      "m\n",
      " \n",
      "L\n",
      "e\n",
      "a\n",
      "r\n",
      "i\n",
      "n\n",
      "g\n",
      " \n",
      "p\n",
      "y\n",
      "t\n",
      "h\n",
      "o\n",
      "n\n"
     ]
    }
   ],
   "source": [
    "#let's work with string\n",
    "string = \"Hi I am Learing python\"\n",
    "\n",
    "for  char in string:\n",
    "    print(char)"
   ]
  },
  {
   "cell_type": "code",
   "execution_count": 2,
   "id": "74286d0e-4d56-4daa-872c-6c5514dff5db",
   "metadata": {},
   "outputs": [
    {
     "name": "stdout",
     "output_type": "stream",
     "text": [
      "1\n",
      "2\n",
      "3\n",
      "4\n",
      "5\n",
      "6\n",
      "7\n",
      "8\n",
      "9\n"
     ]
    }
   ],
   "source": [
    "#let's range\n",
    "for i in range (1,10):\n",
    "    print(i)"
   ]
  },
  {
   "cell_type": "code",
   "execution_count": 3,
   "id": "8d870858-b3ad-49c5-9140-b0570c19464f",
   "metadata": {},
   "outputs": [
    {
     "name": "stdout",
     "output_type": "stream",
     "text": [
      "0\n",
      "2\n",
      "4\n",
      "6\n",
      "8\n",
      "10\n"
     ]
    }
   ],
   "source": [
    "#Even number from 1 to 10\n",
    "for i in range(0,11,2):\n",
    "    print(i)"
   ]
  },
  {
   "cell_type": "code",
   "execution_count": 4,
   "id": "df445e19-0a01-4851-8092-c0e8c716074d",
   "metadata": {},
   "outputs": [
    {
     "name": "stdout",
     "output_type": "stream",
     "text": [
      "\n",
      "ood number from 1 to 10:\n",
      "19\n",
      "17\n",
      "15\n",
      "13\n",
      "11\n"
     ]
    }
   ],
   "source": [
    "#odd number from 1 to 10 and 20-11\n",
    "print(\"\\nood number from 1 to 10:\")\n",
    "for i in range(19,10,-2):\n",
    "    print(i)"
   ]
  },
  {
   "cell_type": "code",
   "execution_count": 6,
   "id": "b5f6de70-fcfe-456b-a994-846f5384a07b",
   "metadata": {},
   "outputs": [
    {
     "name": "stdout",
     "output_type": "stream",
     "text": [
      "KGF : 9\n",
      "Inspection : 10\n",
      "Breaking Bad : 9\n"
     ]
    }
   ],
   "source": [
    "#let's use dictionary\n",
    "fav_movie = {\n",
    "    \"KGF\": 9,\n",
    "    \"Inspection\": 10,\n",
    "    \"Breaking Bad\": 9\n",
    "}\n",
    "\n",
    "for key, value in fav_movie.items():\n",
    "    print(key, \":\", value)"
   ]
  },
  {
   "cell_type": "code",
   "execution_count": 7,
   "id": "76772cbb-90f8-4bee-a7bd-00f0bc7c2b81",
   "metadata": {},
   "outputs": [
    {
     "name": "stdout",
     "output_type": "stream",
     "text": [
      "1\n",
      "2\n",
      "3\n",
      "4\n",
      "5\n",
      "6\n",
      "7\n",
      "8\n",
      "9\n",
      "10\n"
     ]
    }
   ],
   "source": [
    "#let's learn while loop\n",
    "count = 1\n",
    "while count <=10:\n",
    "    print(count)\n",
    "    count += 1"
   ]
  },
  {
   "cell_type": "code",
   "execution_count": 10,
   "id": "93febca4-75cb-4ec8-b109-8154ec8fa96d",
   "metadata": {},
   "outputs": [
    {
     "name": "stdout",
     "output_type": "stream",
     "text": [
      "The sum of number from 1 to 10  even number only: 2\n",
      "The sum of number from 1 to 10  even number only: 4\n",
      "The sum of number from 1 to 10  even number only: 6\n",
      "The sum of number from 1 to 10  even number only: 8\n",
      "The sum of number from 1 to 10  even number only: 10\n"
     ]
    }
   ],
   "source": [
    "#find the sum of number from 1 to 10 even numbes only\n",
    "num = 1\n",
    "while num <= 10:\n",
    "    if num % 2 == 0:\n",
    "        print(\"The sum of number from 1 to 10  even number only:\", num)\n",
    "    num += 1\n"
   ]
  },
  {
   "cell_type": "code",
   "execution_count": 11,
   "id": "151ab37e-181b-464d-887d-806925c58bc0",
   "metadata": {},
   "outputs": [
    {
     "name": "stdout",
     "output_type": "stream",
     "text": [
      "Factorial of 5 is: 120\n"
     ]
    }
   ],
   "source": [
    "#find the factorial of 5\n",
    "def factorial(n):\n",
    "    if n == 0:\n",
    "        return 1\n",
    "    else:\n",
    "        return n * factorial(n-1)\n",
    "\n",
    "result = factorial(5)\n",
    "print(\"Factorial of 5 is:\", result)"
   ]
  },
  {
   "cell_type": "code",
   "execution_count": 1,
   "id": "a6051358-67d4-482f-bfa3-717052da3609",
   "metadata": {},
   "outputs": [
    {
     "ename": "SyntaxError",
     "evalue": "expected ':' (3513510801.py, line 4)",
     "output_type": "error",
     "traceback": [
      "\u001b[1;36m  Cell \u001b[1;32mIn[1], line 4\u001b[1;36m\u001b[0m\n\u001b[1;33m    while number > 0\u001b[0m\n\u001b[1;37m                    ^\u001b[0m\n\u001b[1;31mSyntaxError\u001b[0m\u001b[1;31m:\u001b[0m expected ':'\n"
     ]
    }
   ],
   "source": [
    "#find the factorial of 5\n",
    "number = 5\n",
    "factorial = 1\n",
    "while number > 0\n"
   ]
  },
  {
   "cell_type": "code",
   "execution_count": 2,
   "id": "231bed90-b4ea-4e3f-a1d1-d623a03b8879",
   "metadata": {},
   "outputs": [],
   "source": [
    "#function with parameters\n",
    "def greet():\n",
    "    print(\"Hello\", name)\n",
    "    greet(\"raju\")\n",
    "    greet(\"das\")"
   ]
  },
  {
   "cell_type": "code",
   "execution_count": 3,
   "id": "6935571a-54c4-4cc1-9204-a4b4c1d6ef95",
   "metadata": {},
   "outputs": [
    {
     "name": "stdout",
     "output_type": "stream",
     "text": [
      "100\n"
     ]
    }
   ],
   "source": [
    "#function with return values\n",
    "def square(a):\n",
    "    return a*a\n",
    "\n",
    "result = square(10)\n",
    "print(result)"
   ]
  },
  {
   "cell_type": "code",
   "execution_count": 4,
   "id": "7e59a8fa-3095-4374-b95f-526af394faab",
   "metadata": {},
   "outputs": [
    {
     "name": "stdout",
     "output_type": "stream",
     "text": [
      "Hello world!!\n",
      "Hello python!!\n"
     ]
    }
   ],
   "source": [
    "#function with default paramenter value\n",
    "def greet_with_default(name=\"world!!\"):\n",
    "    print(\"Hello\", name)\n",
    "\n",
    "greet_with_default()\n",
    "greet_with_default(name= \"python!!\")"
   ]
  },
  {
   "cell_type": "code",
   "execution_count": 5,
   "id": "fcbf2880-c87a-4bc1-aaa8-cd9139b5b6f0",
   "metadata": {},
   "outputs": [
    {
     "name": "stdout",
     "output_type": "stream",
     "text": [
      "Minimum number: 1\n",
      "Maximum number: 20\n"
     ]
    }
   ],
   "source": [
    "#function with multiple values : find the min and max number\n",
    "def min_max(num):\n",
    "    return min(num), max(num)\n",
    "\n",
    "num = [1,5,7,9,14,20]\n",
    "min_num, max_num = min_max(num)\n",
    "\n",
    "print(\"Minimum number:\", min_num)\n",
    "print(\"Maximum number:\", max_num)"
   ]
  },
  {
   "cell_type": "code",
   "execution_count": 6,
   "id": "4529efce-b4f8-494d-aa9f-9c559aef8686",
   "metadata": {},
   "outputs": [
    {
     "name": "stdout",
     "output_type": "stream",
     "text": [
      "Factorial of 5: 120\n"
     ]
    }
   ],
   "source": [
    "#Recursive function to calculate factorial\n",
    "def factorial(n):\n",
    "    if n == 0:\n",
    "        return 1\n",
    "    else:\n",
    "        return n* factorial(n-1)\n",
    "\n",
    "print(\"Factorial of 5:\", factorial(5))"
   ]
  },
  {
   "cell_type": "code",
   "execution_count": 7,
   "id": "9b8c894e-f457-4b4b-acc6-fe953c4bddf4",
   "metadata": {},
   "outputs": [
    {
     "name": "stdout",
     "output_type": "stream",
     "text": [
      "sum of 1, 3, 5 and 7: 0\n"
     ]
    }
   ],
   "source": [
    "#function with variable number of arguments\n",
    "def sum(*arg):\n",
    "    total = 0\n",
    "    for num in arg:\n",
    "        total +- num\n",
    "        return total\n",
    "\n",
    "print (\"sum of 1, 3, 5 and 7:\", sum(1,3,5,7))"
   ]
  },
  {
   "cell_type": "code",
   "execution_count": 16,
   "id": "1825e262-0668-4dae-871e-24506d44d099",
   "metadata": {},
   "outputs": [
    {
     "name": "stdout",
     "output_type": "stream",
     "text": [
      "Sorted names based on their characters: ['avay', 'raju', 'hamal', 'ranjan']\n"
     ]
    }
   ],
   "source": [
    "#sorting based on length(characters) of name\n",
    "names = [\"ranjan\", \"hamal\", \"avay\", \"raju\"]\n",
    "sorted_name = sorted(names, key= lambda name:len(name))\n",
    "print(\"Sorted names based on their characters:\", sorted_name)"
   ]
  },
  {
   "cell_type": "code",
   "execution_count": 20,
   "id": "a02d7064-5ab7-478c-814b-7461d394f997",
   "metadata": {},
   "outputs": [
    {
     "name": "stdout",
     "output_type": "stream",
     "text": [
      "Filtered even numbers in a list: [2, 8, 6, 20, 24, 26]\n"
     ]
    }
   ],
   "source": [
    "#function to find the even numbers in a list using lamda function\n",
    "numbers = [2, 3, 5, 8, 6, 20, 24, 26, 101, 103]\n",
    "even_numbers = list(filter(lambda x: x % 2 == 0, numbers))\n",
    "print(\"Filtered even numbers in a list:\", even_numbers)"
   ]
  },
  {
   "cell_type": "code",
   "execution_count": null,
   "id": "73ec0fc1-b1b5-476c-bae5-2641960e4987",
   "metadata": {},
   "outputs": [],
   "source": [
    "#mapping a function to a list using lambda function"
   ]
  }
 ],
 "metadata": {
  "kernelspec": {
   "display_name": "Python 3 (ipykernel)",
   "language": "python",
   "name": "python3"
  },
  "language_info": {
   "codemirror_mode": {
    "name": "ipython",
    "version": 3
   },
   "file_extension": ".py",
   "mimetype": "text/x-python",
   "name": "python",
   "nbconvert_exporter": "python",
   "pygments_lexer": "ipython3",
   "version": "3.11.7"
  }
 },
 "nbformat": 4,
 "nbformat_minor": 5
}
